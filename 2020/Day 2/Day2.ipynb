{
 "metadata": {
  "language_info": {
   "codemirror_mode": {
    "name": "ipython",
    "version": 3
   },
   "file_extension": ".py",
   "mimetype": "text/x-python",
   "name": "python",
   "nbconvert_exporter": "python",
   "pygments_lexer": "ipython3",
   "version": "3.8.3-final"
  },
  "orig_nbformat": 2,
  "kernelspec": {
   "name": "python3",
   "display_name": "Python 3"
  }
 },
 "nbformat": 4,
 "nbformat_minor": 2,
 "cells": [
  {
   "cell_type": "code",
   "execution_count": 1,
   "metadata": {},
   "outputs": [],
   "source": [
    "import pandas as pd"
   ]
  },
  {
   "cell_type": "code",
   "execution_count": 2,
   "metadata": {},
   "outputs": [],
   "source": [
    "inputCsv = os.path.join(os.path.dirname(__file__),'input.csv')\n",
    "df = pd.read_csv(inputCsv)"
   ]
  },
  {
   "cell_type": "code",
   "execution_count": 3,
   "metadata": {},
   "outputs": [],
   "source": [
    "df = df['data'].str.split(pat=\" \", expand=True)\n",
    "df[['minLimit', 'maxLimit']] = df[0].str.split(pat='-', expand=True)\n",
    "df['minLimit'] = df['minLimit'].astype(int)\n",
    "df['maxLimit'] = df['maxLimit'].astype(int)\n",
    "df[['character']] = df[1].str.split(pat=':').str[0]\n",
    "df.rename(columns={2:'pwd'}, inplace=True)\n",
    "\n",
    "df.drop([0,1], inplace=True, axis=1)"
   ]
  },
  {
   "cell_type": "code",
   "execution_count": 4,
   "metadata": {},
   "outputs": [
    {
     "output_type": "execute_result",
     "data": {
      "text/plain": [
       "                     pwd  minLimit  maxLimit character\n",
       "0            mmmmnxmmmwm         9        10         m\n",
       "1               wpwwhxnv         6         8         w\n",
       "2              trwpnnnvq         4         6         n\n",
       "3    zfpmpphpgghpppppppp        12        15         p\n",
       "4         bqlbzfzzzbzwsz         5        10         z\n",
       "..                   ...       ...       ...       ...\n",
       "995         fffffffffsff        11        12         f\n",
       "996   hwzdfvbpbxzfpjwmzq        11        17         z\n",
       "997  mxkmnxfbtnmvmtzdqjl         1        11         m\n",
       "998                 ddjg         3         4         d\n",
       "999   jnlntbblbbqbkqmbbb        17        18         b\n",
       "\n",
       "[1000 rows x 4 columns]"
      ],
      "text/html": "<div>\n<style scoped>\n    .dataframe tbody tr th:only-of-type {\n        vertical-align: middle;\n    }\n\n    .dataframe tbody tr th {\n        vertical-align: top;\n    }\n\n    .dataframe thead th {\n        text-align: right;\n    }\n</style>\n<table border=\"1\" class=\"dataframe\">\n  <thead>\n    <tr style=\"text-align: right;\">\n      <th></th>\n      <th>pwd</th>\n      <th>minLimit</th>\n      <th>maxLimit</th>\n      <th>character</th>\n    </tr>\n  </thead>\n  <tbody>\n    <tr>\n      <th>0</th>\n      <td>mmmmnxmmmwm</td>\n      <td>9</td>\n      <td>10</td>\n      <td>m</td>\n    </tr>\n    <tr>\n      <th>1</th>\n      <td>wpwwhxnv</td>\n      <td>6</td>\n      <td>8</td>\n      <td>w</td>\n    </tr>\n    <tr>\n      <th>2</th>\n      <td>trwpnnnvq</td>\n      <td>4</td>\n      <td>6</td>\n      <td>n</td>\n    </tr>\n    <tr>\n      <th>3</th>\n      <td>zfpmpphpgghpppppppp</td>\n      <td>12</td>\n      <td>15</td>\n      <td>p</td>\n    </tr>\n    <tr>\n      <th>4</th>\n      <td>bqlbzfzzzbzwsz</td>\n      <td>5</td>\n      <td>10</td>\n      <td>z</td>\n    </tr>\n    <tr>\n      <th>...</th>\n      <td>...</td>\n      <td>...</td>\n      <td>...</td>\n      <td>...</td>\n    </tr>\n    <tr>\n      <th>995</th>\n      <td>fffffffffsff</td>\n      <td>11</td>\n      <td>12</td>\n      <td>f</td>\n    </tr>\n    <tr>\n      <th>996</th>\n      <td>hwzdfvbpbxzfpjwmzq</td>\n      <td>11</td>\n      <td>17</td>\n      <td>z</td>\n    </tr>\n    <tr>\n      <th>997</th>\n      <td>mxkmnxfbtnmvmtzdqjl</td>\n      <td>1</td>\n      <td>11</td>\n      <td>m</td>\n    </tr>\n    <tr>\n      <th>998</th>\n      <td>ddjg</td>\n      <td>3</td>\n      <td>4</td>\n      <td>d</td>\n    </tr>\n    <tr>\n      <th>999</th>\n      <td>jnlntbblbbqbkqmbbb</td>\n      <td>17</td>\n      <td>18</td>\n      <td>b</td>\n    </tr>\n  </tbody>\n</table>\n<p>1000 rows × 4 columns</p>\n</div>"
     },
     "metadata": {},
     "execution_count": 4
    }
   ],
   "source": [
    "df"
   ]
  },
  {
   "source": [
    "## Solution part 1"
   ],
   "cell_type": "markdown",
   "metadata": {}
  },
  {
   "cell_type": "code",
   "execution_count": 11,
   "metadata": {},
   "outputs": [],
   "source": [
    "for ind, row in df.iterrows():\n",
    "    pwd = row['pwd']\n",
    "    minLimit = row['minLimit']\n",
    "    maxLimit = row ['maxLimit']\n",
    "    character = row['character']\n",
    "\n",
    "    cnt = pwd.count(character)\n",
    "    if minLimit <= cnt <= maxLimit:\n",
    "        df.at[ind, 'valid'] = 1\n",
    "    else:\n",
    "        df.at[ind, 'valid'] = 0"
   ]
  },
  {
   "cell_type": "code",
   "execution_count": 12,
   "metadata": {},
   "outputs": [
    {
     "output_type": "execute_result",
     "data": {
      "text/plain": [
       "                     pwd  minLimit  maxLimit character  valid\n",
       "0            mmmmnxmmmwm         9        10         m    0.0\n",
       "1               wpwwhxnv         6         8         w    0.0\n",
       "2              trwpnnnvq         4         6         n    0.0\n",
       "3    zfpmpphpgghpppppppp        12        15         p    1.0\n",
       "4         bqlbzfzzzbzwsz         5        10         z    1.0\n",
       "..                   ...       ...       ...       ...    ...\n",
       "995         fffffffffsff        11        12         f    1.0\n",
       "996   hwzdfvbpbxzfpjwmzq        11        17         z    0.0\n",
       "997  mxkmnxfbtnmvmtzdqjl         1        11         m    1.0\n",
       "998                 ddjg         3         4         d    0.0\n",
       "999   jnlntbblbbqbkqmbbb        17        18         b    0.0\n",
       "\n",
       "[1000 rows x 5 columns]"
      ],
      "text/html": "<div>\n<style scoped>\n    .dataframe tbody tr th:only-of-type {\n        vertical-align: middle;\n    }\n\n    .dataframe tbody tr th {\n        vertical-align: top;\n    }\n\n    .dataframe thead th {\n        text-align: right;\n    }\n</style>\n<table border=\"1\" class=\"dataframe\">\n  <thead>\n    <tr style=\"text-align: right;\">\n      <th></th>\n      <th>pwd</th>\n      <th>minLimit</th>\n      <th>maxLimit</th>\n      <th>character</th>\n      <th>valid</th>\n    </tr>\n  </thead>\n  <tbody>\n    <tr>\n      <th>0</th>\n      <td>mmmmnxmmmwm</td>\n      <td>9</td>\n      <td>10</td>\n      <td>m</td>\n      <td>0.0</td>\n    </tr>\n    <tr>\n      <th>1</th>\n      <td>wpwwhxnv</td>\n      <td>6</td>\n      <td>8</td>\n      <td>w</td>\n      <td>0.0</td>\n    </tr>\n    <tr>\n      <th>2</th>\n      <td>trwpnnnvq</td>\n      <td>4</td>\n      <td>6</td>\n      <td>n</td>\n      <td>0.0</td>\n    </tr>\n    <tr>\n      <th>3</th>\n      <td>zfpmpphpgghpppppppp</td>\n      <td>12</td>\n      <td>15</td>\n      <td>p</td>\n      <td>1.0</td>\n    </tr>\n    <tr>\n      <th>4</th>\n      <td>bqlbzfzzzbzwsz</td>\n      <td>5</td>\n      <td>10</td>\n      <td>z</td>\n      <td>1.0</td>\n    </tr>\n    <tr>\n      <th>...</th>\n      <td>...</td>\n      <td>...</td>\n      <td>...</td>\n      <td>...</td>\n      <td>...</td>\n    </tr>\n    <tr>\n      <th>995</th>\n      <td>fffffffffsff</td>\n      <td>11</td>\n      <td>12</td>\n      <td>f</td>\n      <td>1.0</td>\n    </tr>\n    <tr>\n      <th>996</th>\n      <td>hwzdfvbpbxzfpjwmzq</td>\n      <td>11</td>\n      <td>17</td>\n      <td>z</td>\n      <td>0.0</td>\n    </tr>\n    <tr>\n      <th>997</th>\n      <td>mxkmnxfbtnmvmtzdqjl</td>\n      <td>1</td>\n      <td>11</td>\n      <td>m</td>\n      <td>1.0</td>\n    </tr>\n    <tr>\n      <th>998</th>\n      <td>ddjg</td>\n      <td>3</td>\n      <td>4</td>\n      <td>d</td>\n      <td>0.0</td>\n    </tr>\n    <tr>\n      <th>999</th>\n      <td>jnlntbblbbqbkqmbbb</td>\n      <td>17</td>\n      <td>18</td>\n      <td>b</td>\n      <td>0.0</td>\n    </tr>\n  </tbody>\n</table>\n<p>1000 rows × 5 columns</p>\n</div>"
     },
     "metadata": {},
     "execution_count": 12
    }
   ],
   "source": [
    "df"
   ]
  },
  {
   "cell_type": "code",
   "execution_count": 13,
   "metadata": {},
   "outputs": [
    {
     "output_type": "execute_result",
     "data": {
      "text/plain": [
       "                      pwd  minLimit  maxLimit character  valid\n",
       "3     zfpmpphpgghpppppppp        12        15         p    1.0\n",
       "4          bqlbzfzzzbzwsz         5        10         z    1.0\n",
       "8              lllfllllll         8        10         l    1.0\n",
       "10             mjmmmmmmmm         2         9         m    1.0\n",
       "11                   kmmm         3         4         m    1.0\n",
       "..                    ...       ...       ...       ...    ...\n",
       "986  nnnntnnvnnnnnnnnnnnn        17        18         n    1.0\n",
       "990             sssssssrs         1         8         s    1.0\n",
       "993               xxxxxvx         5         6         x    1.0\n",
       "995          fffffffffsff        11        12         f    1.0\n",
       "997   mxkmnxfbtnmvmtzdqjl         1        11         m    1.0\n",
       "\n",
       "[469 rows x 5 columns]"
      ],
      "text/html": "<div>\n<style scoped>\n    .dataframe tbody tr th:only-of-type {\n        vertical-align: middle;\n    }\n\n    .dataframe tbody tr th {\n        vertical-align: top;\n    }\n\n    .dataframe thead th {\n        text-align: right;\n    }\n</style>\n<table border=\"1\" class=\"dataframe\">\n  <thead>\n    <tr style=\"text-align: right;\">\n      <th></th>\n      <th>pwd</th>\n      <th>minLimit</th>\n      <th>maxLimit</th>\n      <th>character</th>\n      <th>valid</th>\n    </tr>\n  </thead>\n  <tbody>\n    <tr>\n      <th>3</th>\n      <td>zfpmpphpgghpppppppp</td>\n      <td>12</td>\n      <td>15</td>\n      <td>p</td>\n      <td>1.0</td>\n    </tr>\n    <tr>\n      <th>4</th>\n      <td>bqlbzfzzzbzwsz</td>\n      <td>5</td>\n      <td>10</td>\n      <td>z</td>\n      <td>1.0</td>\n    </tr>\n    <tr>\n      <th>8</th>\n      <td>lllfllllll</td>\n      <td>8</td>\n      <td>10</td>\n      <td>l</td>\n      <td>1.0</td>\n    </tr>\n    <tr>\n      <th>10</th>\n      <td>mjmmmmmmmm</td>\n      <td>2</td>\n      <td>9</td>\n      <td>m</td>\n      <td>1.0</td>\n    </tr>\n    <tr>\n      <th>11</th>\n      <td>kmmm</td>\n      <td>3</td>\n      <td>4</td>\n      <td>m</td>\n      <td>1.0</td>\n    </tr>\n    <tr>\n      <th>...</th>\n      <td>...</td>\n      <td>...</td>\n      <td>...</td>\n      <td>...</td>\n      <td>...</td>\n    </tr>\n    <tr>\n      <th>986</th>\n      <td>nnnntnnvnnnnnnnnnnnn</td>\n      <td>17</td>\n      <td>18</td>\n      <td>n</td>\n      <td>1.0</td>\n    </tr>\n    <tr>\n      <th>990</th>\n      <td>sssssssrs</td>\n      <td>1</td>\n      <td>8</td>\n      <td>s</td>\n      <td>1.0</td>\n    </tr>\n    <tr>\n      <th>993</th>\n      <td>xxxxxvx</td>\n      <td>5</td>\n      <td>6</td>\n      <td>x</td>\n      <td>1.0</td>\n    </tr>\n    <tr>\n      <th>995</th>\n      <td>fffffffffsff</td>\n      <td>11</td>\n      <td>12</td>\n      <td>f</td>\n      <td>1.0</td>\n    </tr>\n    <tr>\n      <th>997</th>\n      <td>mxkmnxfbtnmvmtzdqjl</td>\n      <td>1</td>\n      <td>11</td>\n      <td>m</td>\n      <td>1.0</td>\n    </tr>\n  </tbody>\n</table>\n<p>469 rows × 5 columns</p>\n</div>"
     },
     "metadata": {},
     "execution_count": 13
    }
   ],
   "source": [
    "df[df['valid']==1]"
   ]
  },
  {
   "source": [
    "## Solution part 2"
   ],
   "cell_type": "markdown",
   "metadata": {}
  },
  {
   "cell_type": "code",
   "execution_count": 40,
   "metadata": {},
   "outputs": [],
   "source": [
    "for ind, row in df.iterrows():\n",
    "    pwd = row['pwd']\n",
    "    pos1 = row['minLimit'] - 1  # Not 0-based from the game rules\n",
    "    pos2 = row ['maxLimit'] - 1  # Not 0-based from the game rules\n",
    "    character = row['character']\n",
    "\n",
    "    pos1Found = pwd.find(character, pos1, pos1+1) \n",
    "    if pos1Found >= 0:\n",
    "        df.at[ind, 'pos1Found'] = 1\n",
    "    else:\n",
    "        df.at[ind, 'pos1Found'] = 0\n",
    "\n",
    "    pos2Found = pwd.find(character, pos2,  pos2+1)\n",
    "    if pos2Found >= 0:\n",
    "        df.at[ind, 'pos2Found'] = 1\n",
    "    else:\n",
    "        df.at[ind, 'pos2Found'] = 0\n",
    "\n"
   ]
  },
  {
   "cell_type": "code",
   "execution_count": 41,
   "metadata": {},
   "outputs": [
    {
     "output_type": "execute_result",
     "data": {
      "text/plain": [
       "                    pwd  minLimit  maxLimit character  valid  pos1Found  \\\n",
       "0           mmmmnxmmmwm         9        10         m    0.0        1.0   \n",
       "2             trwpnnnvq         4         6         n    0.0        0.0   \n",
       "4        bqlbzfzzzbzwsz         5        10         z    1.0        1.0   \n",
       "5    mmkvmwmklnqpmggbgn         7        15         m    0.0        1.0   \n",
       "10           mjmmmmmmmm         2         9         m    1.0        0.0   \n",
       "..                  ...       ...       ...       ...    ...        ...   \n",
       "958          dhhwhhhnhh         5         8         h    1.0        1.0   \n",
       "975    zwzzzzfzzzzzzzzz         7        16         z    1.0        0.0   \n",
       "988              hwhhhh         2         4         h    0.0        0.0   \n",
       "990           sssssssrs         1         8         s    1.0        1.0   \n",
       "993             xxxxxvx         5         6         x    1.0        1.0   \n",
       "\n",
       "     pos2Found  \n",
       "0          0.0  \n",
       "2          1.0  \n",
       "4          0.0  \n",
       "5          0.0  \n",
       "10         1.0  \n",
       "..         ...  \n",
       "958        0.0  \n",
       "975        1.0  \n",
       "988        1.0  \n",
       "990        0.0  \n",
       "993        0.0  \n",
       "\n",
       "[267 rows x 7 columns]"
      ],
      "text/html": "<div>\n<style scoped>\n    .dataframe tbody tr th:only-of-type {\n        vertical-align: middle;\n    }\n\n    .dataframe tbody tr th {\n        vertical-align: top;\n    }\n\n    .dataframe thead th {\n        text-align: right;\n    }\n</style>\n<table border=\"1\" class=\"dataframe\">\n  <thead>\n    <tr style=\"text-align: right;\">\n      <th></th>\n      <th>pwd</th>\n      <th>minLimit</th>\n      <th>maxLimit</th>\n      <th>character</th>\n      <th>valid</th>\n      <th>pos1Found</th>\n      <th>pos2Found</th>\n    </tr>\n  </thead>\n  <tbody>\n    <tr>\n      <th>0</th>\n      <td>mmmmnxmmmwm</td>\n      <td>9</td>\n      <td>10</td>\n      <td>m</td>\n      <td>0.0</td>\n      <td>1.0</td>\n      <td>0.0</td>\n    </tr>\n    <tr>\n      <th>2</th>\n      <td>trwpnnnvq</td>\n      <td>4</td>\n      <td>6</td>\n      <td>n</td>\n      <td>0.0</td>\n      <td>0.0</td>\n      <td>1.0</td>\n    </tr>\n    <tr>\n      <th>4</th>\n      <td>bqlbzfzzzbzwsz</td>\n      <td>5</td>\n      <td>10</td>\n      <td>z</td>\n      <td>1.0</td>\n      <td>1.0</td>\n      <td>0.0</td>\n    </tr>\n    <tr>\n      <th>5</th>\n      <td>mmkvmwmklnqpmggbgn</td>\n      <td>7</td>\n      <td>15</td>\n      <td>m</td>\n      <td>0.0</td>\n      <td>1.0</td>\n      <td>0.0</td>\n    </tr>\n    <tr>\n      <th>10</th>\n      <td>mjmmmmmmmm</td>\n      <td>2</td>\n      <td>9</td>\n      <td>m</td>\n      <td>1.0</td>\n      <td>0.0</td>\n      <td>1.0</td>\n    </tr>\n    <tr>\n      <th>...</th>\n      <td>...</td>\n      <td>...</td>\n      <td>...</td>\n      <td>...</td>\n      <td>...</td>\n      <td>...</td>\n      <td>...</td>\n    </tr>\n    <tr>\n      <th>958</th>\n      <td>dhhwhhhnhh</td>\n      <td>5</td>\n      <td>8</td>\n      <td>h</td>\n      <td>1.0</td>\n      <td>1.0</td>\n      <td>0.0</td>\n    </tr>\n    <tr>\n      <th>975</th>\n      <td>zwzzzzfzzzzzzzzz</td>\n      <td>7</td>\n      <td>16</td>\n      <td>z</td>\n      <td>1.0</td>\n      <td>0.0</td>\n      <td>1.0</td>\n    </tr>\n    <tr>\n      <th>988</th>\n      <td>hwhhhh</td>\n      <td>2</td>\n      <td>4</td>\n      <td>h</td>\n      <td>0.0</td>\n      <td>0.0</td>\n      <td>1.0</td>\n    </tr>\n    <tr>\n      <th>990</th>\n      <td>sssssssrs</td>\n      <td>1</td>\n      <td>8</td>\n      <td>s</td>\n      <td>1.0</td>\n      <td>1.0</td>\n      <td>0.0</td>\n    </tr>\n    <tr>\n      <th>993</th>\n      <td>xxxxxvx</td>\n      <td>5</td>\n      <td>6</td>\n      <td>x</td>\n      <td>1.0</td>\n      <td>1.0</td>\n      <td>0.0</td>\n    </tr>\n  </tbody>\n</table>\n<p>267 rows × 7 columns</p>\n</div>"
     },
     "metadata": {},
     "execution_count": 41
    }
   ],
   "source": [
    "df[(df['pos1Found']+df['pos2Found'])==1]"
   ]
  },
  {
   "cell_type": "code",
   "execution_count": null,
   "metadata": {},
   "outputs": [],
   "source": []
  }
 ]
}