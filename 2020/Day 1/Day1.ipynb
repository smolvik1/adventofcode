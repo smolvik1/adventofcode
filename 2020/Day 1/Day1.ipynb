{
 "metadata": {
  "language_info": {
   "codemirror_mode": {
    "name": "ipython",
    "version": 3
   },
   "file_extension": ".py",
   "mimetype": "text/x-python",
   "name": "python",
   "nbconvert_exporter": "python",
   "pygments_lexer": "ipython3",
   "version": "3.8.3-final"
  },
  "orig_nbformat": 2,
  "kernelspec": {
   "name": "python3",
   "display_name": "Python 3"
  }
 },
 "nbformat": 4,
 "nbformat_minor": 2,
 "cells": [
  {
   "cell_type": "code",
   "execution_count": 1,
   "metadata": {},
   "outputs": [],
   "source": [
    "import pandas as pd"
   ]
  },
  {
   "cell_type": "code",
   "execution_count": 14,
   "metadata": {},
   "outputs": [],
   "source": [
    "inputCsv = os.path.join(os.path.dirname(__file__),'input.csv')\n",
    "df = pd.read_csv(inputCsv)"
   ]
  },
  {
   "source": [
    "## Solution 1"
   ],
   "cell_type": "markdown",
   "metadata": {}
  },
  {
   "cell_type": "code",
   "execution_count": 115,
   "metadata": {
    "tags": []
   },
   "outputs": [],
   "source": [
    "for ind, row in df.iterrows():\n",
    "    df2 = row['number']+df\n",
    "    ind2 = df2[df2['number']==2020].index\n",
    "\n",
    "    if ind2 >= 0:\n",
    "        solVal = df.iloc[ind]['number']\n",
    "        solVal2 = df.iloc[ind2]['number']\n",
    "        break"
   ]
  },
  {
   "cell_type": "code",
   "execution_count": 117,
   "metadata": {},
   "outputs": [
    {
     "output_type": "execute_result",
     "data": {
      "text/plain": [
       "933"
      ]
     },
     "metadata": {},
     "execution_count": 117
    }
   ],
   "source": [
    "solVal"
   ]
  },
  {
   "cell_type": "code",
   "execution_count": 118,
   "metadata": {},
   "outputs": [
    {
     "output_type": "execute_result",
     "data": {
      "text/plain": [
       "128    1087\n",
       "Name: number, dtype: int64"
      ]
     },
     "metadata": {},
     "execution_count": 118
    }
   ],
   "source": [
    "solVal2"
   ]
  },
  {
   "source": [
    "## Solution 2"
   ],
   "cell_type": "markdown",
   "metadata": {}
  },
  {
   "cell_type": "code",
   "execution_count": 130,
   "metadata": {},
   "outputs": [],
   "source": [
    "for ind, row in df.iterrows():\n",
    "    df2 = row['number']+df\n",
    "\n",
    "    for ind2, row2 in df2.iterrows():\n",
    "        df3 = row2['number']+df\n",
    "        \n",
    "        ind3 = df3[df3['number']==2020].index\n",
    "\n",
    "        if ind3 >= 0:\n",
    "            solVal = df.iloc[ind]['number']\n",
    "            solVal2 = df.iloc[ind2]['number']\n",
    "            solVal3 = df.iloc[ind3]['number']\n",
    "            break"
   ]
  },
  {
   "cell_type": "code",
   "execution_count": 131,
   "metadata": {},
   "outputs": [
    {
     "output_type": "execute_result",
     "data": {
      "text/plain": [
       "566"
      ]
     },
     "metadata": {},
     "execution_count": 131
    }
   ],
   "source": [
    "solVal"
   ]
  },
  {
   "cell_type": "code",
   "execution_count": 132,
   "metadata": {},
   "outputs": [
    {
     "output_type": "execute_result",
     "data": {
      "text/plain": [
       "59"
      ]
     },
     "metadata": {},
     "execution_count": 132
    }
   ],
   "source": [
    "solVal2"
   ]
  },
  {
   "cell_type": "code",
   "execution_count": 133,
   "metadata": {},
   "outputs": [
    {
     "output_type": "execute_result",
     "data": {
      "text/plain": [
       "122    1395\n",
       "Name: number, dtype: int64"
      ]
     },
     "metadata": {},
     "execution_count": 133
    }
   ],
   "source": [
    "solVal3"
   ]
  }
 ]
}