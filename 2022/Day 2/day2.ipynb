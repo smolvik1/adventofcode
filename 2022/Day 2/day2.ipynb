{
 "cells": [
  {
   "cell_type": "code",
   "execution_count": 38,
   "metadata": {},
   "outputs": [
    {
     "name": "stdout",
     "output_type": "stream",
     "text": [
      "Solution to problem #1: 15 points\n"
     ]
    }
   ],
   "source": [
    "strategy = []\n",
    "scores = []\n",
    "\n",
    "rpc_mapping = {'A': 'rock', 'B': 'paper', 'C': 'scissor', 'X': 'rock', 'Y': 'paper', 'Z': 'scissor'}\n",
    "symbol_values = {'rock': 1, 'paper': 2, 'scissor': 3}\n",
    "match_values = {'win': 6, 'loss': 0, 'draw': 3}\n",
    "\n",
    "for line in open('input_sample.txt', 'r').readlines():\n",
    "    opponent = line.split()[0]\n",
    "    me = line.split()[1]\n",
    "\n",
    "    for letter, symbol in rpc_mapping.items():\n",
    "        opponent = opponent.replace(letter, symbol)  # rock, paper, scissor\n",
    "        me = me.replace(letter, symbol)  # rock, paper, scissor\n",
    "\n",
    "    if opponent == 'rock' and opponent != me:\n",
    "        if me == 'paper': # win\n",
    "            scores.append(match_values['win'] + symbol_values[me])\n",
    "        if me == 'scissor': # loss\n",
    "            scores.append(match_values['loss'] + symbol_values[me])\n",
    "    elif opponent == 'paper' and opponent != me:\n",
    "        if me == 'scissor': # win\n",
    "            scores.append(match_values['win'] + symbol_values[me])\n",
    "        if me == 'rock': # loss\n",
    "            scores.append(match_values['loss'] + symbol_values[me])\n",
    "    elif opponent == 'scissor' and opponent != me:\n",
    "        if me == 'rock': # win\n",
    "            scores.append(match_values['win'] + symbol_values[me])\n",
    "        if me == 'paper': # loss\n",
    "            scores.append(match_values['loss'] + symbol_values[me])\n",
    "    else: # draw\n",
    "        scores.append(match_values['draw'] + symbol_values[me])\n",
    "\n",
    "print('Solution to problem #1: ' + str(sum(scores)) + ' points' )\n",
    "    \n",
    "    \n",
    "\n",
    "\n"
   ]
  },
  {
   "cell_type": "code",
   "execution_count": 37,
   "metadata": {},
   "outputs": [
    {
     "data": {
      "text/plain": [
       "15"
      ]
     },
     "execution_count": 37,
     "metadata": {},
     "output_type": "execute_result"
    }
   ],
   "source": [
    "sum(scores)"
   ]
  },
  {
   "cell_type": "code",
   "execution_count": 9,
   "metadata": {},
   "outputs": [
    {
     "ename": "IndexError",
     "evalue": "string index out of range",
     "output_type": "error",
     "traceback": [
      "\u001b[1;31m---------------------------------------------------------------------------\u001b[0m",
      "\u001b[1;31mIndexError\u001b[0m                                Traceback (most recent call last)",
      "Cell \u001b[1;32mIn[9], line 1\u001b[0m\n\u001b[1;32m----> 1\u001b[0m strategy[\u001b[39m0\u001b[39;49m][\u001b[39m1\u001b[39;49m]\n",
      "\u001b[1;31mIndexError\u001b[0m: string index out of range"
     ]
    }
   ],
   "source": [
    "strategy[0][1]"
   ]
  },
  {
   "cell_type": "code",
   "execution_count": 14,
   "metadata": {},
   "outputs": [],
   "source": [
    "t = 'A B'"
   ]
  },
  {
   "cell_type": "code",
   "execution_count": 18,
   "metadata": {},
   "outputs": [
    {
     "data": {
      "text/plain": [
       "'B'"
      ]
     },
     "execution_count": 18,
     "metadata": {},
     "output_type": "execute_result"
    }
   ],
   "source": [
    "t.split()[1]"
   ]
  },
  {
   "cell_type": "code",
   "execution_count": null,
   "metadata": {},
   "outputs": [],
   "source": []
  }
 ],
 "metadata": {
  "kernelspec": {
   "display_name": "Python 3.9.13 ('django39')",
   "language": "python",
   "name": "python3"
  },
  "language_info": {
   "codemirror_mode": {
    "name": "ipython",
    "version": 3
   },
   "file_extension": ".py",
   "mimetype": "text/x-python",
   "name": "python",
   "nbconvert_exporter": "python",
   "pygments_lexer": "ipython3",
   "version": "3.9.13"
  },
  "orig_nbformat": 4,
  "vscode": {
   "interpreter": {
    "hash": "d5c915dc46430cb45ddb8e19b6da9197d8e63cedd4d3b0514a4c31fea5550eee"
   }
  }
 },
 "nbformat": 4,
 "nbformat_minor": 2
}
